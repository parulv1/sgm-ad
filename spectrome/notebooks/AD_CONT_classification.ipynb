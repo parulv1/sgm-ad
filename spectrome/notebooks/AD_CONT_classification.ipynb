{
 "cells": [
  {
   "cell_type": "markdown",
   "id": "d5ade344",
   "metadata": {},
   "source": [
    "# Using Multiple Random Forest Models"
   ]
  },
  {
   "cell_type": "code",
   "execution_count": null,
   "id": "257011df",
   "metadata": {},
   "outputs": [],
   "source": [
    "## This notebook is primarily developed by Janani Prasad\n",
    "\n",
    "import pandas as pd\n",
    "import matplotlib.pyplot as plt\n",
    "import numpy as np\n",
    "\n",
    "from sklearn.model_selection import train_test_split\n",
    "from sklearn import model_selection\n",
    "from sklearn.model_selection import GridSearchCV, StratifiedKFold\n",
    "from sklearn.metrics import classification_report\n",
    "from sklearn.ensemble import RandomForestClassifier\n",
    "import plotly.graph_objects as go\n",
    "from sklearn.metrics import (roc_curve, auc, roc_auc_score,\n",
    "                             confusion_matrix)\n",
    "from sklearn.metrics import precision_score, recall_score, f1_score, accuracy_score\n",
    "\n",
    "import warnings\n",
    "warnings.filterwarnings('ignore')"
   ]
  },
  {
   "cell_type": "code",
   "execution_count": null,
   "id": "6eaab57a",
   "metadata": {},
   "outputs": [],
   "source": [
    "df = pd.read_csv(\"../results/AD_Control_ML.csv\")\n",
    "df.head()"
   ]
  },
  {
   "cell_type": "code",
   "execution_count": null,
   "id": "941aa687",
   "metadata": {},
   "outputs": [],
   "source": [
    "X = df.drop('AD',axis='columns').to_numpy()\n",
    "y = df['AD'].to_numpy()"
   ]
  },
  {
   "cell_type": "code",
   "execution_count": null,
   "id": "09b5728e",
   "metadata": {},
   "outputs": [],
   "source": [
    "\n",
    "def get_auc_scores(clf, X_train, X_test, y_train, y_test):\n",
    "    y_train_score = clf.predict_proba(X_train)[:, 1]\n",
    "    y_test_score = clf.predict_proba(X_test)[:, 1] \n",
    "    auc_train = roc_auc_score(y_train, y_train_score)\n",
    "    auc_test = roc_auc_score(y_test, y_test_score) \n",
    " \n",
    "    return auc_test"
   ]
  },
  {
   "attachments": {},
   "cell_type": "markdown",
   "id": "f6081d67",
   "metadata": {},
   "source": [
    "## Random Forest with cv=5"
   ]
  },
  {
   "cell_type": "code",
   "execution_count": null,
   "id": "f1f6c980",
   "metadata": {},
   "outputs": [],
   "source": [
    "def run_model_rf(X_training, y_training):\n",
    "\n",
    "    np.random.seed(1234)\n",
    "\n",
    "    params = {'max_depth':  [None, 2, 3, 4]}\n",
    "\n",
    "    modelROC5 = GridSearchCV(\n",
    "        estimator=RandomForestClassifier(random_state = np.random.seed(1234)),\n",
    "        param_grid=params,\n",
    "        cv=5,\n",
    "        scoring='roc_auc',\n",
    "        n_jobs=5,\n",
    "        verbose=1,\n",
    "    )\n",
    "\n",
    "    modelROC5.fit(X_training, y_training)\n",
    "    return modelROC5"
   ]
  },
  {
   "cell_type": "code",
   "execution_count": null,
   "id": "aaf6393c",
   "metadata": {},
   "outputs": [],
   "source": [
    "auc_test_list = []\n",
    "kf = StratifiedKFold(n_splits=5, shuffle=True, random_state=0)\n",
    "kf.get_n_splits(X, y)\n",
    "importance_tot = np.zeros(8)\n",
    "\n",
    "metrics = ['auc', 'fpr', 'tpr', 'thresholds', 'importance', 'y_test', 'y_pred']\n",
    "results = {\n",
    "    'test' : {m:[] for m in metrics}\n",
    "}\n",
    "\n",
    "count = 0\n",
    "\n",
    "for i in range(100):\n",
    "    for train_index, test_index in kf.split(X, y):\n",
    "        X_train, X_test = X[train_index], X[test_index]\n",
    "        y_train, y_test = y[train_index], y[test_index]\n",
    "        modelROC5Run = run_model_rf(X_train, y_train)\n",
    "        auc_test = get_auc_scores(modelROC5Run, X_train, X_test, y_train, y_test)\n",
    "        auc_test_list.append(auc_test)\n",
    "        importance = np.array(modelROC5Run.best_estimator_.feature_importances_)\n",
    "        importance_tot = importance_tot + importance\n",
    "        fpr, tpr, thresholds = roc_curve(y_test, modelROC5Run.predict_proba(X_test)[:,1])\n",
    "        results['test']['fpr'].append(fpr)\n",
    "        results['test']['tpr'].append(tpr)\n",
    "        results['test']['thresholds'].append(thresholds)\n",
    "        results['test']['auc'].append(auc_test)\n",
    "        results['test']['importance'].append(importance)\n",
    "        y_pred = modelROC5Run.predict(X_test)\n",
    "        results['test']['y_test'].append(y_test)\n",
    "        results['test']['y_pred'].append(y_pred)\n",
    "        count += 1\n",
    "\n",
    "importance_tot = importance_tot/count"
   ]
  },
  {
   "attachments": {},
   "cell_type": "markdown",
   "id": "8808da46",
   "metadata": {},
   "source": [
    "## ROC"
   ]
  },
  {
   "cell_type": "code",
   "execution_count": null,
   "id": "e23f2e67",
   "metadata": {},
   "outputs": [],
   "source": [
    "\n",
    "## Used code from here: https://towardsdatascience.com/pooled-roc-with-xgboost-and-plotly-553a8169680c\n",
    "kind = 'test'\n",
    "c_fill      = 'rgba(52, 152, 219, 0.2)'\n",
    "c_line      = 'rgba(52, 152, 219, 0.5)'\n",
    "c_line_main = 'rgba(41, 128, 185, 1.0)'\n",
    "c_grid      = 'rgba(189, 195, 199, 0.5)'\n",
    "c_annot     = 'rgba(149, 165, 166, 0.5)'\n",
    "c_highlight = 'rgba(192, 57, 43, 1.0)'\n",
    "fpr_mean    = np.linspace(0, 1, count)\n",
    "interp_tprs = []\n",
    "for i in range(count):\n",
    "    fpr           = results[kind]['fpr'][i]\n",
    "    tpr           = results[kind]['tpr'][i]\n",
    "    interp_tpr    = np.interp(fpr_mean, fpr, tpr)\n",
    "    interp_tpr[0] = 0.0\n",
    "    interp_tprs.append(interp_tpr)\n",
    "tpr_mean     = np.mean(interp_tprs, axis=0)\n",
    "tpr_mean[-1] = 1.0\n",
    "tpr_std      = 2*np.std(interp_tprs, axis=0)\n",
    "tpr_upper = np.max(interp_tprs, axis=0)\n",
    "tpr_lower = np.min(interp_tprs, axis=0)\n",
    "\n",
    "auc          = np.mean(results[kind]['auc'])\n",
    "fig = go.Figure([\n",
    "    go.Scatter(\n",
    "        x          = fpr_mean,\n",
    "        y          = tpr_upper,\n",
    "        line       = dict(color=c_line, width=1),\n",
    "        hoverinfo  = \"skip\",\n",
    "        showlegend = False,\n",
    "        name       = 'upper'),\n",
    "    go.Scatter(\n",
    "        x          = fpr_mean,\n",
    "        y          = tpr_lower,\n",
    "        fill       = 'tonexty',\n",
    "        fillcolor  = c_fill,\n",
    "        line       = dict(color=c_line, width=1),\n",
    "        hoverinfo  = \"skip\",\n",
    "        showlegend = False,\n",
    "        name       = 'lower'),\n",
    "    go.Scatter(\n",
    "        x          = fpr_mean,\n",
    "        y          = tpr_mean,\n",
    "        line       = dict(color=c_line_main, width=2),\n",
    "        hoverinfo  = \"skip\",\n",
    "        showlegend = True,\n",
    "        name       = f'AUC: {auc:.2f}')\n",
    "])\n",
    "fig.add_shape(\n",
    "    type ='line', \n",
    "    line =dict(dash='dash'),\n",
    "    x0=0, x1=1, y0=0, y1=1\n",
    ")\n",
    "fig.update_layout(\n",
    "    template    = 'plotly_white', \n",
    "    title_x     = 0.5,\n",
    "    xaxis_title = '(1 - Specificity)',\n",
    "    yaxis_title = 'Sensitivity',\n",
    "    width       = 500,\n",
    "    height      = 500,\n",
    "    legend      = dict(\n",
    "        yanchor=\"bottom\", \n",
    "        xanchor=\"right\", \n",
    "        x=0.95,\n",
    "        y=0.01,\n",
    "    )\n",
    ")\n",
    "fig.update_yaxes(\n",
    "    range       = [0, 1],\n",
    "    gridcolor   = c_grid,\n",
    "    scaleanchor = \"x\", \n",
    "    scaleratio  = 1,\n",
    "    linecolor   = 'black')\n",
    "fig.update_xaxes(\n",
    "    range       = [0, 1],\n",
    "    gridcolor   = c_grid,\n",
    "    constrain   = 'domain',\n",
    "    linecolor   = 'black')\n"
   ]
  },
  {
   "cell_type": "markdown",
   "id": "90a233a2",
   "metadata": {},
   "source": [
    "## Feature importance plot"
   ]
  },
  {
   "cell_type": "code",
   "execution_count": null,
   "id": "7765c2e4",
   "metadata": {},
   "outputs": [],
   "source": [
    "importance_tot_noage = importance_tot[:-1,]\n",
    "importance_arr = np.array(results['test']['importance'])\n",
    "importance_arr_noage = np.delete(importance_arr,7,1)\n",
    "importance_arr_mean_noage = np.mean(importance_arr_noage,axis=0)\n",
    "importance_arr_std_noage = np.std(importance_arr_noage,axis=0)\n",
    "plt.rcParams.update({\n",
    "    \"mathtext.fontset\": \"stix\",\n",
    "    \"font.family\": \"STIXGeneral\",\n",
    "    \"xtick.labelsize\": 18,\n",
    "    \"ytick.labelsize\": 15\n",
    "})\n",
    "# plot feature importance\n",
    "ind = np.argsort(importance_tot_noage)[::-1]\n",
    "print(ind)\n",
    "plt.bar([x for x in range(len(importance_arr_mean_noage))], importance_arr_mean_noage[ind], \n",
    "yerr = importance_arr_std_noage[ind], color=\"#08519c\", capsize=8)\n",
    "parlist = [r'$\\tau_e$',r'$\\tau_i$',r'$\\alpha$',r'$v$',r'$g_{ei}$',r'$g_{ii}$',r'$\\tau_G$']\n",
    "\n",
    "parlist_sorted = [parlist[i] for i in ind]\n",
    "plt.xticks([0,1,2,3,4,5,6],parlist_sorted)\n",
    "\n",
    "\n",
    "plt.tight_layout()"
   ]
  },
  {
   "cell_type": "code",
   "execution_count": null,
   "id": "ca05dd09",
   "metadata": {},
   "outputs": [],
   "source": [
    "print(classification_report(list(np.concatenate(results['test']['y_test']).flat), \n",
    "list(np.concatenate(results['test']['y_pred']).flat), target_names=['Control','AD']))"
   ]
  },
  {
   "cell_type": "code",
   "execution_count": null,
   "id": "57b8e8af",
   "metadata": {},
   "outputs": [],
   "source": [
    "ytest = list(np.concatenate(results['test']['y_test']).flat)\n",
    "ypred = list(np.concatenate(results['test']['y_pred']).flat)\n",
    "print('accuracy:',accuracy_score(ytest, ypred))\n",
    "print('precision:', precision_score(ytest,ypred))\n",
    "print('recall score:',recall_score(ytest,ypred))\n",
    "print('f1 score:',f1_score(ytest,ypred))\n"
   ]
  }
 ],
 "metadata": {
  "kernelspec": {
   "display_name": "spectrome",
   "language": "python",
   "name": "spectrome"
  },
  "language_info": {
   "codemirror_mode": {
    "name": "ipython",
    "version": 3
   },
   "file_extension": ".py",
   "mimetype": "text/x-python",
   "name": "python",
   "nbconvert_exporter": "python",
   "pygments_lexer": "ipython3",
   "version": "3.9.6 | packaged by conda-forge | (default, Jul 11 2021, 03:36:15) \n[Clang 11.1.0 ]"
  },
  "vscode": {
   "interpreter": {
    "hash": "589b9370c6739d9e871a277e3714cdd69e1c5914a3d30017f27d288c0dcced1e"
   }
  }
 },
 "nbformat": 4,
 "nbformat_minor": 5
}
