{
 "cells": [
  {
   "cell_type": "code",
   "execution_count": null,
   "metadata": {},
   "outputs": [],
   "source": [
    "# this path append is for binder only\n",
    "import sys\n",
    "sys.path.append(\"../../\")\n",
    "\n",
    "#spectrome modules\n",
    "from spectrome.forward import runforward\n",
    "from spectrome.utils import functions, path\n",
    "from spectrome.brain import Brain\n",
    "\n",
    "#generic modules\n",
    "import matplotlib.pyplot as plt\n",
    "import numpy as np\n",
    "import xarray as xr\n",
    "import pandas as pd\n",
    "import seaborn as sns\n",
    "import statsmodels.api as sm\n",
    "\n",
    "\n",
    "plt.rcParams.update({\n",
    "    \"mathtext.fontset\": \"stix\",\n",
    "    \"font.family\": \"STIXGeneral\",\n",
    "    \"xtick.labelsize\": 17,\n",
    "    \"ytick.labelsize\": 12\n",
    "})"
   ]
  },
  {
   "attachments": {},
   "cell_type": "markdown",
   "metadata": {},
   "source": [
    "## Loading the optimized parameters for AD and controls"
   ]
  },
  {
   "cell_type": "code",
   "execution_count": null,
   "metadata": {},
   "outputs": [],
   "source": [
    "cont_params = pd.read_csv(\"../results/CONT_optimizedparams.csv\")\n",
    "ad_params = pd.read_csv(\"../results/AD_optimizedparams.csv\")\n",
    "ad_params_demographics = pd.read_csv(\"../results/AD_optimizedparams_demographics.csv\")"
   ]
  },
  {
   "attachments": {},
   "cell_type": "markdown",
   "metadata": {},
   "source": [
    "#### Removing one subject which did not have MMSE recorded"
   ]
  },
  {
   "cell_type": "code",
   "execution_count": null,
   "metadata": {},
   "outputs": [],
   "source": [
    "ad_mmse = np.array(ad_params_demographics['MMSE'])\n",
    "\n",
    "mmse_nan = np.argwhere(np.isnan(ad_mmse))[0]\n",
    "\n",
    "ad_params_mmse = ad_params_demographics.drop(labels=mmse_nan, axis=0)"
   ]
  },
  {
   "attachments": {},
   "cell_type": "markdown",
   "metadata": {},
   "source": [
    "## Univariate association of MMSE with significant parameters in AD"
   ]
  },
  {
   "cell_type": "code",
   "execution_count": null,
   "metadata": {},
   "outputs": [],
   "source": [
    "fig, ax = plt.subplots(1,3, figsize=(15,5))\n",
    "\n",
    "sns.regplot(x='tauG', y='MMSE', data=ad_params_mmse,ax=ax[0]);\n",
    "ax[0].set_xlabel(r'$\\tau_G$ (ms)',fontsize=17)\n",
    "ax[0].set_ylabel('MMSE',fontsize=17)\n",
    "\n",
    "sns.regplot(x='taue', y='MMSE', data=ad_params_mmse,ax=ax[1]);\n",
    "ax[1].set_xlabel(r'$\\tau_e$ (ms)',fontsize=17)\n",
    "ax[1].set_ylabel('')\n",
    "\n",
    "sns.regplot(x='gii', y='MMSE', data=ad_params_mmse,ax=ax[2]);\n",
    "ax[2].set_xlabel(r'$g_{ii}$',fontsize=17)\n",
    "ax[2].set_ylabel('')"
   ]
  },
  {
   "cell_type": "markdown",
   "metadata": {},
   "source": [
    "## Univariate association of MMSE with significant parameters in AD"
   ]
  },
  {
   "cell_type": "code",
   "execution_count": null,
   "metadata": {},
   "outputs": [],
   "source": [
    "y = ad_params_mmse['MMSE']\n",
    "x = ad_params_mmse[['tauG']]\n",
    "x = sm.add_constant(x) # adding a constant\n",
    "model = sm.OLS(y, x).fit()\n",
    "predictions = model.predict(x) \n",
    "print_model = model.summary()\n",
    "print(print_model)\n",
    "\n",
    "\n",
    "x = ad_params_mmse[['taue']]\n",
    "x = sm.add_constant(x) # adding a constant\n",
    "model = sm.OLS(y, x).fit()\n",
    "predictions = model.predict(x) \n",
    "print_model = model.summary()\n",
    "print(print_model)\n",
    "\n",
    "\n",
    "x = ad_params_mmse[['gii']]\n",
    "x = sm.add_constant(x) # adding a constant\n",
    "model = sm.OLS(y, x).fit()\n",
    "predictions = model.predict(x) \n",
    "print_model = model.summary()\n",
    "print(print_model)"
   ]
  },
  {
   "attachments": {},
   "cell_type": "markdown",
   "metadata": {},
   "source": [
    "## Univariate association of CDR with significant parameters in AD"
   ]
  },
  {
   "cell_type": "code",
   "execution_count": null,
   "metadata": {},
   "outputs": [],
   "source": [
    "y = ad_params_demographics['CDR_Box']\n",
    "x = ad_params_demographics[['tauG']]\n",
    "x = sm.add_constant(x) # adding a constant\n",
    "model = sm.OLS(y, x).fit()\n",
    "predictions = model.predict(x) \n",
    "print_model = model.summary()\n",
    "print(print_model)\n",
    "\n",
    "\n",
    "x = ad_params_demographics[['taue']]\n",
    "x = sm.add_constant(x) # adding a constant\n",
    "model = sm.OLS(y, x).fit()\n",
    "predictions = model.predict(x) \n",
    "print_model = model.summary()\n",
    "print(print_model)\n",
    "\n",
    "\n",
    "x = ad_params_demographics[['gii']]\n",
    "x = sm.add_constant(x) # adding a constant\n",
    "model = sm.OLS(y, x).fit()\n",
    "predictions = model.predict(x) \n",
    "print_model = model.summary()\n",
    "print(print_model)"
   ]
  },
  {
   "attachments": {},
   "cell_type": "markdown",
   "metadata": {},
   "source": [
    "## Multivariate association of MMSE with significant parameters in AD"
   ]
  },
  {
   "cell_type": "code",
   "execution_count": null,
   "metadata": {},
   "outputs": [],
   "source": [
    "x = ad_params_mmse[['age','tauG','taue','gii']]\n",
    "y = ad_params_mmse['MMSE']\n",
    "\n",
    "x = sm.add_constant(x) # adding a constant\n",
    " \n",
    "model = sm.OLS(y, x).fit()\n",
    "predictions = model.predict(x) \n",
    " \n",
    "print_model = model.summary()\n",
    "print(print_model)"
   ]
  },
  {
   "attachments": {},
   "cell_type": "markdown",
   "metadata": {},
   "source": [
    "## Multivariate association of CDR with significant parameters in AD"
   ]
  },
  {
   "cell_type": "code",
   "execution_count": null,
   "metadata": {},
   "outputs": [],
   "source": [
    "x = ad_params_demographics[['age','tauG','taue','gii']]\n",
    "y = ad_params_demographics['CDR_Box']\n",
    "\n",
    "# with statsmodels\n",
    "x = sm.add_constant(x) # adding a constant\n",
    " \n",
    "model = sm.OLS(y, x).fit()\n",
    "predictions = model.predict(x) \n",
    " \n",
    "print_model = model.summary()\n",
    "print(print_model)"
   ]
  }
 ],
 "metadata": {
  "kernelspec": {
   "display_name": "spectrome",
   "language": "python",
   "name": "python3"
  },
  "language_info": {
   "codemirror_mode": {
    "name": "ipython",
    "version": 3
   },
   "file_extension": ".py",
   "mimetype": "text/x-python",
   "name": "python",
   "nbconvert_exporter": "python",
   "pygments_lexer": "ipython3",
   "version": "3.9.6"
  },
  "vscode": {
   "interpreter": {
    "hash": "589b9370c6739d9e871a277e3714cdd69e1c5914a3d30017f27d288c0dcced1e"
   }
  }
 },
 "nbformat": 4,
 "nbformat_minor": 4
}
