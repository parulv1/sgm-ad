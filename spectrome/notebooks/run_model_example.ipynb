{
 "cells": [
  {
   "cell_type": "markdown",
   "metadata": {},
   "source": [
    "## Simulating spectral graph model frequency spectrum with `spectrome`: Usage example"
   ]
  },
  {
   "cell_type": "markdown",
   "metadata": {},
   "source": [
    "![](./classes.png)"
   ]
  },
  {
   "cell_type": "markdown",
   "metadata": {},
   "source": [
    "### Import modules with respective paths"
   ]
  },
  {
   "cell_type": "code",
   "execution_count": null,
   "metadata": {},
   "outputs": [],
   "source": [
    "# this path append is for binder only\n",
    "import sys\n",
    "sys.path.append(\"../../\")\n",
    "\n",
    "#spectrome modules\n",
    "from spectrome.forward import runforward\n",
    "from spectrome.utils import functions, path\n",
    "from spectrome.brain import Brain\n",
    "\n",
    "#generic modules\n",
    "import matplotlib.pyplot as plt\n",
    "import numpy as np\n",
    "import pandas as pd"
   ]
  },
  {
   "cell_type": "code",
   "execution_count": null,
   "metadata": {},
   "outputs": [],
   "source": [
    "# Loading CONT and AD optimized params\n",
    "cont_params = pd.read_csv(\"../results/CONT_optimizedparams.csv\")\n",
    "ad_params = pd.read_csv(\"../results/AD_optimizedparams.csv\")"
   ]
  },
  {
   "cell_type": "markdown",
   "metadata": {},
   "source": [
    "### Create new `Brain()` and populate it"
   ]
  },
  {
   "cell_type": "markdown",
   "metadata": {},
   "source": [
    "Let us first set up a `Brain()` and its attributes: `connectome`, `ordering`, and `ntf_params`"
   ]
  },
  {
   "cell_type": "code",
   "execution_count": null,
   "metadata": {},
   "outputs": [],
   "source": [
    "new_brain = Brain.Brain()\n",
    "\n",
    "hcp_dir = path.get_data_path() # connectome information is in /data/ dir\n",
    "new_brain.add_connectome(hcp_dir) # Use default files in /data/"
   ]
  },
  {
   "cell_type": "markdown",
   "metadata": {},
   "source": [
    "Let's see what the attributes of brain are:"
   ]
  },
  {
   "cell_type": "code",
   "execution_count": null,
   "metadata": {},
   "outputs": [],
   "source": [
    "vars(new_brain).keys()"
   ]
  },
  {
   "cell_type": "markdown",
   "metadata": {},
   "source": [
    "And which have been initialized, so far"
   ]
  },
  {
   "cell_type": "code",
   "execution_count": null,
   "metadata": {},
   "outputs": [],
   "source": [
    "vars(new_brain)"
   ]
  },
  {
   "cell_type": "markdown",
   "metadata": {},
   "source": [
    "We have the connectome (`Cdk_conn`), the distance matrix (`Ddk_conn`), the permanent hcp ordering (`permHCP`), and some defaul parameters for the `network_transfer_function` (`ntf_params`)."
   ]
  },
  {
   "cell_type": "markdown",
   "metadata": {},
   "source": [
    "Now, the `network_transfer_function` has 4 input parameters:\n",
    "- `C`: the **reduced** connectivity matrix\n",
    "- `D`: the distance matrix\n",
    "- `parameters`: the 7 ntf parameters\n",
    "- `w`: the frequency at which the ntf will be calculated at.\n",
    "    \n",
    "We have all but the first parameter since we need to convert the connectivity matrix to a **reduced** form. This is done by applying 2 functions to the `new_brain`:\n",
    "- `new_brain.bi_symmetric_c()`\n",
    "- `new_brain.reduce_extreme_dir()`"
   ]
  },
  {
   "cell_type": "code",
   "execution_count": null,
   "metadata": {},
   "outputs": [],
   "source": [
    "# Some re-ordering and normalizing (reduced):\n",
    "new_brain.reorder_connectome(new_brain.connectome, new_brain.distance_matrix)\n",
    "new_brain.bi_symmetric_c()\n",
    "new_brain.reduce_extreme_dir()\n",
    "\n",
    "print(new_brain.reducedConnectome.shape)"
   ]
  },
  {
   "cell_type": "markdown",
   "metadata": {},
   "source": [
    "For the Desikan-Killiany atlas, we have 86 brain regions.|"
   ]
  },
  {
   "cell_type": "markdown",
   "metadata": {},
   "source": [
    "### Calculating network transfer function for a *range* of frequencies"
   ]
  },
  {
   "cell_type": "markdown",
   "metadata": {},
   "source": [
    "Now loop over a range of frequencies of interest and calculate the network transfer function.\n",
    "\n",
    "1. First setup such frequencies:"
   ]
  },
  {
   "cell_type": "code",
   "execution_count": null,
   "metadata": {},
   "outputs": [],
   "source": [
    "fmin = 1 \n",
    "fmax = 40\n",
    "fvec = np.linspace(fmin,fmax,40)"
   ]
  },
  {
   "cell_type": "markdown",
   "metadata": {},
   "source": [
    "2. Then calculate the frequency response:"
   ]
  },
  {
   "cell_type": "code",
   "execution_count": null,
   "metadata": {},
   "outputs": [],
   "source": [
    "# Setting model parameters to be optimized for a healthy control\n",
    "new_brain.ntf_params[\"tau_e\"] = cont_params[\"taue\"][0]/1000\n",
    "new_brain.ntf_params[\"tau_i\"] = cont_params[\"taui\"][0]/1000\n",
    "new_brain.ntf_params[\"alpha\"] = cont_params[\"alpha\"][0]\n",
    "new_brain.ntf_params[\"speed\"] = cont_params[\"speed\"][0]\n",
    "new_brain.ntf_params[\"gei\"] = cont_params[\"gei\"][0]\n",
    "new_brain.ntf_params[\"gii\"] = cont_params[\"gii\"][0]\n",
    "new_brain.ntf_params[\"tauC\"] = cont_params[\"tauG\"][0]/1000\n",
    "\n",
    "# Compute for all frequencies in fvec:\n",
    "model_spectrum, freq_response, eigvalues, eigvectors = runforward.run_local_coupling_forward(new_brain, new_brain.ntf_params, fvec)\n"
   ]
  },
  {
   "cell_type": "markdown",
   "metadata": {},
   "source": [
    "The output for this example is 86 brain regions and 40 frequency bins."
   ]
  },
  {
   "cell_type": "markdown",
   "metadata": {},
   "source": [
    "### Plotting the simulated frequency spectra:"
   ]
  },
  {
   "cell_type": "code",
   "execution_count": null,
   "metadata": {},
   "outputs": [],
   "source": [
    "for g in range(len(model_spectrum)):\n",
    "    spectrum = np.abs(model_spectrum[g,:])\n",
    "    plt.plot(fvec,functions.mag2db(spectrum))\n",
    "\n",
    "plt.grid(True)\n",
    "plt.xlabel('Frequency (Hz)')\n",
    "plt.ylabel('Magnitude (dB)')\n"
   ]
  },
  {
   "cell_type": "code",
   "execution_count": null,
   "metadata": {},
   "outputs": [],
   "source": [
    "# Setting model parameters to be optimized for a patient with AD\n",
    "new_brain.ntf_params[\"tau_e\"] = ad_params[\"taue\"][0]/1000\n",
    "new_brain.ntf_params[\"tau_i\"] = ad_params[\"taui\"][0]/1000\n",
    "new_brain.ntf_params[\"alpha\"] = ad_params[\"alpha\"][0]\n",
    "new_brain.ntf_params[\"speed\"] = ad_params[\"speed\"][0]\n",
    "new_brain.ntf_params[\"gei\"] = ad_params[\"gei\"][0]\n",
    "new_brain.ntf_params[\"gii\"] = ad_params[\"gii\"][0]\n",
    "new_brain.ntf_params[\"tauC\"] = ad_params[\"tauG\"][0]/1000\n",
    "\n",
    "# Compute for all frequencies in fvec:\n",
    "model_spectrum, freq_response, eigvalues, eigvectors = runforward.run_local_coupling_forward(new_brain, new_brain.ntf_params, fvec)\n",
    "for g in range(len(model_spectrum)):\n",
    "    spectrum = np.abs(model_spectrum[g,:])\n",
    "    plt.plot(fvec,functions.mag2db(spectrum))\n",
    "\n",
    "plt.grid(True)\n",
    "plt.xlabel('Frequency (Hz)')\n",
    "plt.ylabel('Magnitude (dB)')\n"
   ]
  }
 ],
 "metadata": {
  "interpreter": {
   "hash": "e330157330a5789555a99498b037b375f4d5d27a2c24955d524dedc16c6756bf"
  },
  "kernelspec": {
   "display_name": "spectrome",
   "language": "python",
   "name": "spectrome"
  },
  "language_info": {
   "codemirror_mode": {
    "name": "ipython",
    "version": 3
   },
   "file_extension": ".py",
   "mimetype": "text/x-python",
   "name": "python",
   "nbconvert_exporter": "python",
   "pygments_lexer": "ipython3",
   "version": "3.9.6 | packaged by conda-forge | (default, Jul 11 2021, 03:36:15) \n[Clang 11.1.0 ]"
  },
  "metadata": {
   "interpreter": {
    "hash": "15ce7b80c6dfb9758d9ecd6707d0d873282b2e2b4eb23c502ae705891320a29e"
   }
  }
 },
 "nbformat": 4,
 "nbformat_minor": 4
}
